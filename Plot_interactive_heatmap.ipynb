{
 "cells": [
  {
   "cell_type": "code",
   "execution_count": 1,
   "id": "6b99a26f",
   "metadata": {},
   "outputs": [],
   "source": [
    "%matplotlib inline\n",
    "from matplotlib import pyplot as plt\n",
    "from matplotlib import colormaps as cm\n",
    "import os\n",
    "import pandas as pd\n",
    "import numpy as np"
   ]
  },
  {
   "cell_type": "markdown",
   "id": "896d5d31",
   "metadata": {},
   "source": [
    "### 1. Prepare matrix for heatmap"
   ]
  },
  {
   "cell_type": "code",
   "execution_count": 2,
   "id": "897abac3",
   "metadata": {},
   "outputs": [
    {
     "name": "stdout",
     "output_type": "stream",
     "text": [
      "(17, 5)\n"
     ]
    }
   ],
   "source": [
    "df_AlM3X2 = pd.read_csv('AlM3X2.csv')\n",
    "df_AlM4X3 = pd.read_csv('AlM4X3.csv')\n",
    "df_AlM2X = pd.read_csv('AlM2X.csv')\n",
    "\n",
    "del df_AlM3X2['Unnamed: 0']\n",
    "del df_AlM4X3['Unnamed: 0']\n",
    "del df_AlM2X['Unnamed: 0']\n",
    "\n",
    "df_AlM3X2 = df_AlM3X2.T \n",
    "df_AlM4X3 = df_AlM4X3.T \n",
    "df_AlM2X = df_AlM2X.T \n",
    "\n",
    "metal_ticks = ['Sc', 'Ti', 'V', 'Cr', 'Mn', 'Fe', 'Co', 'Ni', 'Cu', 'Zn',\n",
    "               'Y',  'Zr', 'Nb','Mo',\n",
    "               'Hf', 'Ta', 'W']\n",
    "anion_ticks = ['B', 'C', 'N', 'Si', 'P']\n",
    "\n",
    "print(df_AlM2X.shape)\n"
   ]
  },
  {
   "cell_type": "code",
   "execution_count": 3,
   "id": "c4e13d10",
   "metadata": {},
   "outputs": [],
   "source": [
    "n_metal, n_anion = len(metal_ticks), len(anion_ticks)\n",
    "images_AlM2X, images_AlM3X2, images_AlM4X3, metal_names, anion_names = \\\n",
    "        np.empty([n_metal, n_anion], dtype='<U256'), \\\n",
    "        np.empty([n_metal, n_anion], dtype='<U256'), \\\n",
    "        np.empty([n_metal, n_anion], dtype='<U256'), \\\n",
    "        np.empty([n_metal, n_anion], dtype='<U256'), \\\n",
    "        np.empty([n_metal, n_anion], dtype='<U256')\n",
    "\n",
    "NEB1_AlM2X, NEB1_AlM3X2, NEB1_AlM4X3, NEB2_AlM2X, NEB2_AlM3X2, NEB2_AlM4X3 = \\\n",
    "        np.empty([n_metal, n_anion], dtype='<U256'), \\\n",
    "        np.empty([n_metal, n_anion], dtype='<U256'), \\\n",
    "        np.empty([n_metal, n_anion], dtype='<U256'), \\\n",
    "        np.empty([n_metal, n_anion], dtype='<U256'), \\\n",
    "        np.empty([n_metal, n_anion], dtype='<U256'), \\\n",
    "        np.empty([n_metal, n_anion], dtype='<U256')\n",
    "        "
   ]
  },
  {
   "cell_type": "code",
   "execution_count": 4,
   "id": "c8f61a37",
   "metadata": {
    "scrolled": true
   },
   "outputs": [],
   "source": [
    "for i in range(n_anion):\n",
    "    for j in range(n_metal):\n",
    "        images_AlM2X[j,i] = f'./PhaseDiagrams/PhaseDiagram_Al{metal_ticks[j]}2{anion_ticks[i]}.jpg'\n",
    "        images_AlM3X2[j,i] = f'./PhaseDiagrams/PhaseDiagram_Al{metal_ticks[j]}3{anion_ticks[i]}2.jpg'\n",
    "        images_AlM4X3[j,i] = f'./PhaseDiagrams/PhaseDiagram_Al{metal_ticks[j]}4{anion_ticks[i]}3.jpg'\n",
    "        \n",
    "        NEB1_AlM2X[j,i] = f'./NEBProfiles/Al{metal_ticks[j]}2{anion_ticks[i]}.jpg'\n",
    "        NEB1_AlM3X2[j,i] = f'./NEBProfiles/Al{metal_ticks[j]}3{anion_ticks[i]}2.jpg'\n",
    "        NEB1_AlM4X3[j,i] = f'./NEBProfiles/Al{metal_ticks[j]}4{anion_ticks[i]}3.jpg'\n",
    "        \n",
    "        NEB2_AlM2X[j,i] = f'./NEBProfiles/{metal_ticks[j]}2{anion_ticks[i]}.jpg'\n",
    "        NEB2_AlM3X2[j,i] = f'./NEBProfiles/{metal_ticks[j]}3{anion_ticks[i]}2.jpg'\n",
    "        NEB2_AlM4X3[j,i] = f'./NEBProfiles/{metal_ticks[j]}4{anion_ticks[i]}3.jpg'\n",
    "        \n",
    "        metal_names[j,i] = metal_ticks[j]\n",
    "        anion_names[j,i] = anion_ticks[i]"
   ]
  },
  {
   "cell_type": "markdown",
   "id": "16c97a0b",
   "metadata": {},
   "source": [
    "### Plot heatmap for AlM2X"
   ]
  },
  {
   "cell_type": "code",
   "execution_count": 5,
   "id": "3394ee18",
   "metadata": {},
   "outputs": [
    {
     "name": "stdout",
     "output_type": "stream",
     "text": [
      "(17, 5)\n"
     ]
    }
   ],
   "source": [
    "print(df_AlM2X.values.shape)"
   ]
  },
  {
   "cell_type": "code",
   "execution_count": 6,
   "id": "563c7cce",
   "metadata": {},
   "outputs": [
    {
     "name": "stdout",
     "output_type": "stream",
     "text": [
      "(17, 5) (17, 5)\n"
     ]
    }
   ],
   "source": [
    "# Create a grid of coordinates for the heatmap\n",
    "x_range = list(range(df_AlM2X.values.shape[0]))\n",
    "y_range = list(range(df_AlM2X.values.shape[1]))\n",
    "\n",
    "xx, yy = np.meshgrid(y_range, x_range)\n",
    "\n",
    "# Flatten the grid and data for the ColumnDataSource\n",
    "x_coords = yy.flatten()\n",
    "y_coords = xx.flatten()\n",
    "values = df_AlM2X.values.flatten()*1000\n",
    "imgs = images_AlM2X.flatten()\n",
    "M_names = metal_names.flatten()\n",
    "A_names = anion_names.flatten()\n",
    "NEB_imgs1 = NEB1_AlM2X.flatten()\n",
    "NEB_imgs2 = NEB2_AlM2X.flatten()\n",
    "\n",
    "width, height = images_AlM2X.shape\n",
    "print(xx.shape, metal_names.shape)"
   ]
  },
  {
   "cell_type": "code",
   "execution_count": 7,
   "id": "a9b0d653",
   "metadata": {
    "scrolled": true
   },
   "outputs": [
    {
     "name": "stdout",
     "output_type": "stream",
     "text": [
      "           0         1         2         3         4\n",
      "0   0.476914  0.123938  0.091185  0.414893  0.207382\n",
      "1   0.282758  0.000113 -0.000004  0.464688  0.215652\n",
      "2   0.208746 -0.000025  0.019464  0.560172  0.318441\n",
      "3   0.225570 -0.011461  0.419376  0.304193  0.295508\n",
      "4   0.129842 -0.020593  0.399994  0.194011  0.290268\n",
      "5   0.116268  0.120366  0.768664  0.217661  0.274898\n",
      "6   0.299318  0.271166  0.743851  0.303569  0.338190\n",
      "7   0.261495  0.554630  0.888840  0.195404  0.287987\n",
      "8   0.581380  0.948236  1.282971  0.174012  0.449518\n",
      "9   0.654747  0.929267  1.076577  0.242128  0.601423\n",
      "10  0.494864  0.210798  0.180632  0.448467  0.207089\n",
      "11  0.305397  0.045084  0.047980  0.415116  0.172379\n",
      "12  0.118473  0.000014  0.138642  0.492352  0.261519\n",
      "13  0.116890  0.040134  0.551287  0.466498  0.355902\n",
      "14  0.285075  0.013375  0.016313  0.447894  0.181475\n",
      "15  0.089523  0.007953  0.158511  0.576871  0.380219\n",
      "16  0.070990  0.154052  0.756084  0.285868  0.382154\n",
      "[ 4.76913750e+02  1.23937813e+02  9.11850000e+01  4.14893125e+02\n",
      "  2.07381875e+02  2.82758281e+02  1.12500000e-01 -3.75000000e-03\n",
      "  4.64688125e+02  2.15651528e+02  2.08746406e+02 -2.50000000e-02\n",
      "  1.94637500e+01  5.60171667e+02  3.18440564e+02  2.25570000e+02\n",
      " -1.14612500e+01  4.19376250e+02  3.04193417e+02  2.95508000e+02\n",
      "  1.29842083e+02 -2.05925625e+01  3.99994267e+02  1.94011250e+02\n",
      "  2.90268222e+02  1.16268125e+02  1.20365906e+02  7.68663750e+02\n",
      "  2.17661250e+02  2.74898000e+02  2.99318125e+02  2.71166125e+02\n",
      "  7.43851250e+02  3.03569375e+02  3.38190000e+02  2.61495417e+02\n",
      "  5.54629875e+02  8.88840000e+02  1.95404375e+02  2.87986694e+02\n",
      "  5.81379909e+02  9.48235684e+02  1.28297125e+03  1.74012500e+02\n",
      "  4.49518000e+02  6.54746801e+02  9.29267156e+02  1.07657750e+03\n",
      "  2.42128150e+02  6.01423000e+02  4.94863958e+02  2.10798250e+02\n",
      "  1.80631667e+02  4.48467500e+02  2.07089167e+02  3.05397500e+02\n",
      "  4.50838889e+01  4.79804167e+01  4.15115625e+02  1.72378750e+02\n",
      "  1.18472575e+02  1.37500000e-02  1.38642500e+02  4.92351917e+02\n",
      "  2.61518792e+02  1.16890417e+02  4.01344583e+01  5.51287000e+02\n",
      "  4.66498089e+02  3.55901917e+02  2.85075000e+02  1.33750000e+01\n",
      "  1.63125000e+01  4.47893750e+02  1.81475000e+02  8.95225000e+01\n",
      "  7.95312500e+00  1.58510625e+02  5.76870833e+02  3.80219444e+02\n",
      "  7.09900000e+01  1.54052500e+02  7.56083750e+02  2.85868333e+02\n",
      "  3.82154250e+02]\n",
      "['Sc' 'Sc' 'Sc' 'Sc' 'Sc' 'Ti' 'Ti' 'Ti' 'Ti' 'Ti' 'V' 'V' 'V' 'V' 'V'\n",
      " 'Cr' 'Cr' 'Cr' 'Cr' 'Cr' 'Mn' 'Mn' 'Mn' 'Mn' 'Mn' 'Fe' 'Fe' 'Fe' 'Fe'\n",
      " 'Fe' 'Co' 'Co' 'Co' 'Co' 'Co' 'Ni' 'Ni' 'Ni' 'Ni' 'Ni' 'Cu' 'Cu' 'Cu'\n",
      " 'Cu' 'Cu' 'Zn' 'Zn' 'Zn' 'Zn' 'Zn' 'Y' 'Y' 'Y' 'Y' 'Y' 'Zr' 'Zr' 'Zr'\n",
      " 'Zr' 'Zr' 'Nb' 'Nb' 'Nb' 'Nb' 'Nb' 'Mo' 'Mo' 'Mo' 'Mo' 'Mo' 'Hf' 'Hf'\n",
      " 'Hf' 'Hf' 'Hf' 'Ta' 'Ta' 'Ta' 'Ta' 'Ta' 'W' 'W' 'W' 'W' 'W']\n",
      "['B' 'C' 'N' 'Si' 'P' 'B' 'C' 'N' 'Si' 'P' 'B' 'C' 'N' 'Si' 'P' 'B' 'C'\n",
      " 'N' 'Si' 'P' 'B' 'C' 'N' 'Si' 'P' 'B' 'C' 'N' 'Si' 'P' 'B' 'C' 'N' 'Si'\n",
      " 'P' 'B' 'C' 'N' 'Si' 'P' 'B' 'C' 'N' 'Si' 'P' 'B' 'C' 'N' 'Si' 'P' 'B'\n",
      " 'C' 'N' 'Si' 'P' 'B' 'C' 'N' 'Si' 'P' 'B' 'C' 'N' 'Si' 'P' 'B' 'C' 'N'\n",
      " 'Si' 'P' 'B' 'C' 'N' 'Si' 'P' 'B' 'C' 'N' 'Si' 'P' 'B' 'C' 'N' 'Si' 'P']\n"
     ]
    }
   ],
   "source": [
    "print(df_AlM2X)\n",
    "print(values)\n",
    "print(M_names)\n",
    "print(A_names)"
   ]
  },
  {
   "cell_type": "code",
   "execution_count": 8,
   "id": "81cfa0f4",
   "metadata": {},
   "outputs": [
    {
     "name": "stdout",
     "output_type": "stream",
     "text": [
      "(85,)\n"
     ]
    }
   ],
   "source": [
    "from bokeh.plotting import figure, show, output_file\n",
    "from bokeh.models import HoverTool, ColumnDataSource, ColorBar\n",
    "from bokeh.transform import linear_cmap\n",
    "from bokeh.io import push_notebook\n",
    "import matplotlib.cm as cm\n",
    "import matplotlib.colors as mcolors\n",
    "from bokeh.models import Div\n",
    "from bokeh.layouts import column, row\n",
    "from bokeh.embed import components\n",
    "\n",
    "# Create a ColumnDataSource\n",
    "print(x_coords.shape)\n",
    "source = ColumnDataSource(data=dict(\n",
    "    x=x_coords,\n",
    "    y=y_coords,\n",
    "    values=values,\n",
    "    imgs=imgs,\n",
    "    M_names=M_names,\n",
    "    A_names=A_names,\n",
    "    NEB_imgs1=NEB_imgs1,\n",
    "    NEB_imgs2=NEB_imgs2\n",
    "))\n",
    "\n",
    "TOOLTIPS = \"\"\"\n",
    "    <div>\n",
    "        <div>\n",
    "            <img\n",
    "                src=\"@imgs\" height=\"261\" alt=\"@imgs\" width=\"366\"\n",
    "                style=\"margin: 500px 5px 5px 50px;\"\n",
    "            ></img>\n",
    "        </div>\n",
    "        <div>\n",
    "            <img\n",
    "                src=\"@NEB_imgs1\" height=\"122\" alt=\"Not Available\" width=\"183\"\n",
    "                style=\"margin: 0px 5px 5px 50px;\"\n",
    "            ></img>\n",
    "            <img\n",
    "                src=\"@NEB_imgs2\" height=\"122\" alt=\"Not Available\" width=\"183\"\n",
    "                style=\"margin: 0px 5px 5px 50px;\"\n",
    "            ></img>\n",
    "        </div>\n",
    "        <div style=\"text-align: left;\">\n",
    "            <span style=\"font-size: 17px;\"><span style=\"font-weight: bold;\">MAX Formula: </span><span>@{M_names}2@{A_names}</span><br>\n",
    "            <span style=\"font-size: 17px;\"><span style=\"font-weight: bold;\">Ehull: </span><span>@values{0} meV/atom</span><br>\n",
    "            <span style=\"font-size: 17px;\"><span style=\"font-weight: bold;\">Ea (Aluminated): </span><span>XXX eV</span><br>\n",
    "            <span style=\"font-size: 17px;\"><span style=\"font-weight: bold;\">Ea (Dealuminated): </span><span>XXX eV</span><br>\n",
    "        </div>\n",
    "    </div>\n",
    "\"\"\"\n",
    "\n",
    "# Create a new plot\n",
    "colormap = cm.coolwarm\n",
    "coolwarm_palette = [mcolors.rgb2hex(m) for m in colormap(np.arange(colormap.N))]\n",
    "mapper = linear_cmap(field_name='values', palette=coolwarm_palette, low=0, high=500)\n",
    "\n",
    "p = figure(width=1000, height=200, x_range=(-0.5, width-0.5), y_range=(-0.5, height-0.5))\n",
    "p.rect(x=\"x\", y=\"y\", width=1, height=1, source=source, line_color=\"white\", fill_color=mapper)\n",
    "\n",
    "# Add hover tool\n",
    "hover = HoverTool()\n",
    "hover.tooltips = TOOLTIPS\n",
    "p.add_tools(hover)\n",
    "\n",
    "# Add color bar\n",
    "color_bar = ColorBar(color_mapper=mapper['transform'], width=8, location=(0,0))\n",
    "p.add_layout(color_bar, 'right')\n",
    "\n",
    "# Change tick\n",
    "p.yaxis.ticker = list(range(5))\n",
    "p.xaxis.ticker = list(range(len(metal_ticks)))\n",
    "\n",
    "p.yaxis.major_label_overrides = {i:anion_ticks[i] for i in range(5)}\n",
    "p.xaxis.major_label_overrides = {i:metal_ticks[i] for i in range(len(metal_ticks))}\n",
    "\n",
    "output_file(\"heatmap_AlM2X.html\")\n",
    "show(p)"
   ]
  },
  {
   "cell_type": "markdown",
   "id": "30961866",
   "metadata": {},
   "source": [
    "### Plot heatmap for AlM3X2"
   ]
  },
  {
   "cell_type": "code",
   "execution_count": 9,
   "id": "d5f8462e",
   "metadata": {},
   "outputs": [
    {
     "name": "stdout",
     "output_type": "stream",
     "text": [
      "(17, 5) (17, 5)\n"
     ]
    }
   ],
   "source": [
    "# Create a grid of coordinates for the heatmap\n",
    "x_range = list(range(df_AlM3X2.values.shape[0]))\n",
    "y_range = list(range(df_AlM3X2.values.shape[1]))\n",
    "\n",
    "xx, yy = np.meshgrid(y_range, x_range)\n",
    "\n",
    "# Flatten the grid and data for the ColumnDataSource\n",
    "x_coords = yy.flatten()\n",
    "y_coords = xx.flatten()\n",
    "values = df_AlM3X2.values.flatten()*1000\n",
    "imgs = images_AlM3X2.flatten()\n",
    "M_names = metal_names.flatten()\n",
    "A_names = anion_names.flatten()\n",
    "NEB_imgs1 = NEB1_AlM3X2.flatten()\n",
    "NEB_imgs2 = NEB2_AlM3X2.flatten()\n",
    "\n",
    "width, height = images_AlM3X2.shape\n",
    "print(xx.shape, metal_names.shape)"
   ]
  },
  {
   "cell_type": "code",
   "execution_count": 10,
   "id": "3dcaa4ad",
   "metadata": {},
   "outputs": [
    {
     "name": "stdout",
     "output_type": "stream",
     "text": [
      "(85,)\n"
     ]
    }
   ],
   "source": [
    "# Create a ColumnDataSource\n",
    "print(x_coords.shape)\n",
    "source = ColumnDataSource(data=dict(\n",
    "    x=x_coords,\n",
    "    y=y_coords,\n",
    "    values=values,\n",
    "    imgs=imgs,\n",
    "    M_names=M_names,\n",
    "    A_names=A_names,\n",
    "    NEB_imgs1=NEB_imgs1,\n",
    "    NEB_imgs2=NEB_imgs2\n",
    "))\n",
    "\n",
    "TOOLTIPS = \"\"\"\n",
    "    <div>\n",
    "        <div>\n",
    "            <img\n",
    "                src=\"@imgs\" height=\"261\" alt=\"@imgs\" width=\"366\"\n",
    "                style=\"margin: 500px 5px 5px 50px;\"\n",
    "            ></img>\n",
    "        </div>\n",
    "        <div>\n",
    "            <img\n",
    "                src=\"@NEB_imgs1\" height=\"122\" alt=\"Not Available\" width=\"183\"\n",
    "                style=\"margin: 0px 5px 5px 50px;\"\n",
    "            ></img>\n",
    "            <img\n",
    "                src=\"@NEB_imgs2\" height=\"122\" alt=\"Not Available\" width=\"183\"\n",
    "                style=\"margin: 0px 5px 5px 50px;\"\n",
    "            ></img>\n",
    "        </div>\n",
    "        <div style=\"text-align: left;\">\n",
    "            <span style=\"font-size: 17px;\"><span style=\"font-weight: bold;\">MAX Formula: </span><span>@{M_names}3@{A_names}2</span><br>\n",
    "            <span style=\"font-size: 17px;\"><span style=\"font-weight: bold;\">Ehull: </span><span>@values{0} meV/atom</span><br>\n",
    "            <span style=\"font-size: 17px;\"><span style=\"font-weight: bold;\">Ea (Aluminated): </span><span>XXX eV</span><br>\n",
    "            <span style=\"font-size: 17px;\"><span style=\"font-weight: bold;\">Ea (Dealuminated): </span><span>XXX eV</span><br>\n",
    "        </div>\n",
    "    </div>\n",
    "\"\"\"\n",
    "\n",
    "# Create a new plot\n",
    "colormap = cm.coolwarm\n",
    "coolwarm_palette = [mcolors.rgb2hex(m) for m in colormap(np.arange(colormap.N))]\n",
    "mapper = linear_cmap(field_name='values', palette=coolwarm_palette, low=0, high=500)\n",
    "\n",
    "p = figure(width=1000, height=200, x_range=(-0.5, width-0.5), y_range=(-0.5, height-0.5))\n",
    "p.rect(x=\"x\", y=\"y\", width=1, height=1, source=source, line_color=\"white\", fill_color=mapper)\n",
    "\n",
    "# Add hover tool\n",
    "hover = HoverTool()\n",
    "hover.tooltips = TOOLTIPS\n",
    "p.add_tools(hover)\n",
    "\n",
    "# Add color bar\n",
    "color_bar = ColorBar(color_mapper=mapper['transform'], width=8, location=(0,0))\n",
    "p.add_layout(color_bar, 'right')\n",
    "\n",
    "# Change tick\n",
    "p.yaxis.ticker = list(range(5))\n",
    "p.xaxis.ticker = list(range(len(metal_ticks)))\n",
    "\n",
    "p.yaxis.major_label_overrides = {i:anion_ticks[i] for i in range(5)}\n",
    "p.xaxis.major_label_overrides = {i:metal_ticks[i] for i in range(len(metal_ticks))}\n",
    "\n",
    "output_file(\"heatmap_AlM3X2.html\")\n",
    "show(p)"
   ]
  },
  {
   "cell_type": "markdown",
   "id": "82ac9a2b",
   "metadata": {},
   "source": [
    "### Plot heatmap for AlM4X3"
   ]
  },
  {
   "cell_type": "code",
   "execution_count": 11,
   "id": "bdc4c5d8",
   "metadata": {},
   "outputs": [
    {
     "name": "stdout",
     "output_type": "stream",
     "text": [
      "(17, 5) (17, 5)\n",
      "(85,)\n"
     ]
    }
   ],
   "source": [
    "# Create a grid of coordinates for the heatmap\n",
    "x_range = list(range(df_AlM4X3.values.shape[0]))\n",
    "y_range = list(range(df_AlM4X3.values.shape[1]))\n",
    "\n",
    "xx, yy = np.meshgrid(y_range, x_range)\n",
    "\n",
    "# Flatten the grid and data for the ColumnDataSource\n",
    "x_coords = yy.flatten()\n",
    "y_coords = xx.flatten()\n",
    "values = df_AlM4X3.values.flatten()*1000\n",
    "imgs = images_AlM4X3.flatten()\n",
    "M_names = metal_names.flatten()\n",
    "A_names = anion_names.flatten()\n",
    "NEB_imgs1 = NEB1_AlM4X3.flatten()\n",
    "NEB_imgs2 = NEB2_AlM4X3.flatten()\n",
    "\n",
    "width, height = images_AlM3X2.shape\n",
    "print(xx.shape, metal_names.shape)\n",
    "\n",
    "# Create a ColumnDataSource\n",
    "print(x_coords.shape)\n",
    "source = ColumnDataSource(data=dict(\n",
    "    x=x_coords,\n",
    "    y=y_coords,\n",
    "    values=values,\n",
    "    imgs=imgs,\n",
    "    M_names=M_names,\n",
    "    A_names=A_names,\n",
    "    NEB_imgs1=NEB_imgs1,\n",
    "    NEB_imgs2=NEB_imgs2\n",
    "))\n",
    "\n",
    "TOOLTIPS = \"\"\"\n",
    "    <div>\n",
    "        <div>\n",
    "            <img\n",
    "                src=\"@imgs\" height=\"261\" alt=\"@imgs\" width=\"366\"\n",
    "                style=\"margin: 500px 5px 5px 50px;\"\n",
    "            ></img>\n",
    "        </div>\n",
    "        <div>\n",
    "            <img\n",
    "                src=\"@NEB_imgs1\" height=\"122\" alt=\"Not Available\" width=\"183\"\n",
    "                style=\"margin: 0px 5px 5px 50px;\"\n",
    "            ></img>\n",
    "            <img\n",
    "                src=\"@NEB_imgs2\" height=\"122\" alt=\"Not Available\" width=\"183\"\n",
    "                style=\"margin: 0px 5px 5px 50px;\"\n",
    "            ></img>\n",
    "        </div>\n",
    "        <div style=\"text-align: left;\">\n",
    "            <span style=\"font-size: 17px;\"><span style=\"font-weight: bold;\">MAX Formula: </span><span>@{M_names}4@{A_names}3</span><br>\n",
    "            <span style=\"font-size: 17px;\"><span style=\"font-weight: bold;\">Ehull: </span><span>@values{0} meV/atom</span><br>\n",
    "            <span style=\"font-size: 17px;\"><span style=\"font-weight: bold;\">Ea (Aluminated): </span><span>XXX eV</span><br>\n",
    "            <span style=\"font-size: 17px;\"><span style=\"font-weight: bold;\">Ea (Dealuminated): </span><span>XXX eV</span><br>\n",
    "        </div>\n",
    "    </div>\n",
    "\"\"\"\n",
    "\n",
    "# Create a new plot\n",
    "colormap = cm.coolwarm\n",
    "coolwarm_palette = [mcolors.rgb2hex(m) for m in colormap(np.arange(colormap.N))]\n",
    "mapper = linear_cmap(field_name='values', palette=coolwarm_palette, low=0, high=500)\n",
    "\n",
    "p = figure(width=1000, height=200, x_range=(-0.5, width-0.5), y_range=(-0.5, height-0.5))\n",
    "p.rect(x=\"x\", y=\"y\", width=1, height=1, source=source, line_color=\"white\", fill_color=mapper)\n",
    "\n",
    "# Add hover tool\n",
    "hover = HoverTool()\n",
    "hover.tooltips = TOOLTIPS\n",
    "p.add_tools(hover)\n",
    "\n",
    "# Add color bar\n",
    "color_bar = ColorBar(color_mapper=mapper['transform'], width=8, location=(0,0))\n",
    "p.add_layout(color_bar, 'right')\n",
    "\n",
    "# Change tick\n",
    "p.yaxis.ticker = list(range(5))\n",
    "p.xaxis.ticker = list(range(len(metal_ticks)))\n",
    "\n",
    "p.yaxis.major_label_overrides = {i:anion_ticks[i] for i in range(5)}\n",
    "p.xaxis.major_label_overrides = {i:metal_ticks[i] for i in range(len(metal_ticks))}\n",
    "\n",
    "output_file(\"heatmap_AlM4X3.html\")\n",
    "show(p)"
   ]
  },
  {
   "cell_type": "code",
   "execution_count": null,
   "id": "2a6364d4",
   "metadata": {},
   "outputs": [],
   "source": []
  }
 ],
 "metadata": {
  "kernelspec": {
   "display_name": "Python 3 (ipykernel)",
   "language": "python",
   "name": "python3"
  },
  "language_info": {
   "codemirror_mode": {
    "name": "ipython",
    "version": 3
   },
   "file_extension": ".py",
   "mimetype": "text/x-python",
   "name": "python",
   "nbconvert_exporter": "python",
   "pygments_lexer": "ipython3",
   "version": "3.9.12"
  }
 },
 "nbformat": 4,
 "nbformat_minor": 5
}
